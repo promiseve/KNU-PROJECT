{
 "cells": [
  {
   "cell_type": "code",
   "execution_count": null,
   "metadata": {},
   "outputs": [],
   "source": [
    "Hill Climbing-Based placement\n",
    "Hill Climbing algorithms apply a greedy approach to finding reasonable solutions in the search space. \n",
    "In this instance, Hill Climbing was applied by incrementally adding more sensors.\n",
    "A pseudo code outline of the implementation used for this work is shown.\n",
    "Starting with the 2388 possible sensor locations, the algorithm iterates over all possible sensor locations,\n",
    "generating a layout for each one. \n",
    "Each layout is then evaluated and scored with the ADL-based fitness function, to determine the top performer for each activity.\n",
    "For the top performer in each activity, the algorithm iterates over that layout in the next generation. \n",
    "This process is repeated for “depth” iterations."
   ]
  },
  {
   "cell_type": "code",
   "execution_count": 17,
   "metadata": {},
   "outputs": [],
   "source": [
    "def ill_climbing(layouts, depth):\n",
    "  events + all_input_data_events\n",
    "  activities = differen_activities\n",
    "  for i in sensor_locations:\n",
    "   score =eval(i,events)\n",
    "   results= []\n",
    "   for a in allactivities:\n",
    "     results .append(get_top_score(a))\n",
    "   if (depth>0):\n",
    "    results = hill_climbing(results, depth-1)\n",
    "   return results"
   ]
  },
  {
   "cell_type": "code",
   "execution_count": null,
   "metadata": {},
   "outputs": [],
   "source": []
  },
  {
   "cell_type": "code",
   "execution_count": null,
   "metadata": {},
   "outputs": [],
   "source": []
  }
 ],
 "metadata": {
  "kernelspec": {
   "display_name": "Python 3",
   "language": "python",
   "name": "python3"
  },
  "language_info": {
   "codemirror_mode": {
    "name": "ipython",
    "version": 3
   },
   "file_extension": ".py",
   "mimetype": "text/x-python",
   "name": "python",
   "nbconvert_exporter": "python",
   "pygments_lexer": "ipython3",
   "version": "3.8.5"
  }
 },
 "nbformat": 4,
 "nbformat_minor": 4
}
